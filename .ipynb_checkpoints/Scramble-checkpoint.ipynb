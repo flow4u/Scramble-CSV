{
 "cells": [
  {
   "cell_type": "markdown",
   "id": "4483e0f4-9a54-4a15-a315-a5cbcb90e0c2",
   "metadata": {},
   "source": [
    "# Scramble\n",
    "\n",
    "This Notebook scrambles a CSV. Use the configuration_scramble.xlsx to configure.\n",
    "\n",
    "The end result is a dataset that contains realistic data but even basis statics won't disclose anything that resembles the original dataset."
   ]
  },
  {
   "cell_type": "code",
   "execution_count": 1,
   "id": "658a89b9",
   "metadata": {
    "jupyter": {
     "source_hidden": true
    },
    "tags": []
   },
   "outputs": [],
   "source": [
    "# Import libraries\n",
    "import pandas as pd\n",
    "import random as random\n",
    "import generic_functions2 as gf\n",
    "from datetime import datetime"
   ]
  },
  {
   "cell_type": "code",
   "execution_count": 2,
   "id": "3aa73ce9",
   "metadata": {
    "jupyter": {
     "source_hidden": true
    },
    "tags": []
   },
   "outputs": [
    {
     "name": "stdout",
     "output_type": "stream",
     "text": [
      "./Converted/\n",
      "******************************************************************************************\n",
      "Choose source by number\n",
      "------------------------------------------------------------------------------------------\n",
      "[1]  20211011-215024_emc-proto-covid19.csv\t\n",
      "\n"
     ]
    },
    {
     "name": "stdin",
     "output_type": "stream",
     "text": [
      "Please choose Q(uit) or between 1 and 1:  1\n"
     ]
    }
   ],
   "source": [
    "# settings\n",
    "\n",
    "file = 'configuration_scramble.xlsx'\n",
    "sheet_name='Settings'\n",
    "settings_table = pd.read_excel(file, sheet_name=sheet_name, index_col='Item')\n",
    "\n",
    "# the location and name of the file to be scrambled\n",
    "input_folder = settings_table.loc['input_folder']['Value']\n",
    "if input_folder[-1] != '/': input_folder += '/'\n",
    "\n",
    "# gf.print_title('Choose the source for the Study')\n",
    "input_file = input_folder + gf.choose_dir_item(input_folder,'files','csv')\n",
    "\n",
    "print('\\n'*2)\n",
    "gf.print_title('Processing, please relax and maybe grab a cup of coffee/tea ....')\n",
    "\n",
    "# the location and the name the scrambled data will be written as CSV file\n",
    "output_folder = settings_table.loc['output_folder']['Value']\n",
    "if output_folder[-1] != '/': output_folder += '/'\n",
    "    \n",
    "# the base for the name of the scrambled dataset\n",
    "scrambled_file = settings_table.loc['filename']['Value']\n",
    "if scrambled_file[-4] != '.csv': scrambled_file += '.csv'\n",
    "\n",
    "# Replace the correct variable for ID. The the id_column will be replaced with tstxxxxxxxx\n",
    "# can be left '', not advisable when an ID is present\n",
    "id_column = settings_table.loc['id_column']['Value']\n",
    "\n",
    "# these variables will not be scrambled\n",
    "item = 'DontScramble'\n",
    "df_temp = pd.read_excel(file, sheet_name=item)\n",
    "dont_scramble = df_temp[item].values.tolist()\n",
    "\n",
    "# these variables will be deleted from the scrambled dataset and therefore don't need to be scrambled\n",
    "item = 'DropVariables'\n",
    "df_temp = pd.read_excel(file, sheet_name=item)\n",
    "drop_variables = df_temp[item].values.tolist()"
   ]
  },
  {
   "cell_type": "code",
   "execution_count": 3,
   "id": "26ad3015",
   "metadata": {
    "jupyter": {
     "source_hidden": true
    },
    "tags": []
   },
   "outputs": [],
   "source": [
    "df = pd.read_csv(input_file, dtype=str, na_filter= False)"
   ]
  },
  {
   "cell_type": "code",
   "execution_count": 4,
   "id": "a1c30ad1",
   "metadata": {
    "jupyter": {
     "source_hidden": true
    },
    "tags": []
   },
   "outputs": [],
   "source": [
    "# create list without dates\n",
    "scramble_columns = [x for x in df.columns if x not in dont_scramble]\n",
    "if id_column:\n",
    "    scramble_columns.remove(id_column)\n",
    "for item in drop_variables:\n",
    "    scramble_columns.remove(item)"
   ]
  },
  {
   "cell_type": "code",
   "execution_count": 5,
   "id": "a5182a54",
   "metadata": {
    "jupyter": {
     "source_hidden": true
    },
    "tags": []
   },
   "outputs": [],
   "source": [
    "def id_dict(id_column):\n",
    "    '''function to pseodonimze id column'''\n",
    "    lst = list(set(df[id_column]))\n",
    "    new_id = {}\n",
    "    t = 1\n",
    "    for itm in lst:\n",
    "        new_id[itm] = 'tst' + f'{t:08d}'\n",
    "        t+=1\n",
    "    return new_id\n",
    "\n",
    "def scramble(lst_values, x):\n",
    "    '''function to scramble variables'''\n",
    "    # only replace a value when there is a value\n",
    "    if x != '':\n",
    "        return random.choice(lst_values)\n",
    "    # no value, leave empty\n",
    "    else:\n",
    "        return ''\n"
   ]
  },
  {
   "cell_type": "code",
   "execution_count": null,
   "id": "95f07bb7",
   "metadata": {
    "jupyter": {
     "source_hidden": true
    },
    "tags": []
   },
   "outputs": [],
   "source": [
    "# pseudonimize id_column\n",
    "if id_column:\n",
    "    df.replace({id_column: id_dict(id_column)}, inplace=True)\n",
    "\n",
    "# drop dont_scramble\n",
    "df.drop(drop_variables, axis=1, inplace=True)\n",
    "\n",
    "# scramble all non date columns\n",
    "# scramble_columns = lst\n",
    "for item in scramble_columns:\n",
    "    lst_values = list(set(df[df[item] != ''][item]))\n",
    "    if lst_values:\n",
    "        df[item] = df.apply(lambda x: scramble(lst_values, x[item]), axis=1)\n",
    "\n",
    "\n",
    "stamp = f'{datetime.now():%Y%m%d-%H%M%S}'\n",
    "file_name = output_folder + f\"/{stamp}_\" + scrambled_file\n",
    "        \n",
    "df.to_csv(file_name, index=False)\n",
    "\n",
    "input('Enter to continue....')\n",
    "print('\\n'*2)\n",
    "gf.print_title(\n",
    "    f\"All done, the output (CSV) can be found timestamped in: {output_folder}\"\n",
    ")"
   ]
  }
 ],
 "metadata": {
  "kernelspec": {
   "display_name": "Python 3 (ipykernel)",
   "language": "python",
   "name": "python3"
  },
  "language_info": {
   "codemirror_mode": {
    "name": "ipython",
    "version": 3
   },
   "file_extension": ".py",
   "mimetype": "text/x-python",
   "name": "python",
   "nbconvert_exporter": "python",
   "pygments_lexer": "ipython3",
   "version": "3.8.11"
  }
 },
 "nbformat": 4,
 "nbformat_minor": 5
}
