{
 "cells": [
  {
   "cell_type": "code",
   "execution_count": 1,
   "id": "b25e8409-5abf-4f8b-a26e-01ecb1b5a5ab",
   "metadata": {},
   "outputs": [],
   "source": [
    "# Import libraries\n",
    "import pandas as pd\n",
    "import random as random"
   ]
  },
  {
   "cell_type": "code",
   "execution_count": 2,
   "id": "ffc6829b-279e-4b8a-97e0-293ce7877fbf",
   "metadata": {},
   "outputs": [],
   "source": [
    "# settings\n",
    "\n",
    "'''\n",
    "The settings below are set to work with the included test, change the variables in this cell\n",
    "to work with your dataset\n",
    "'''\n",
    "\n",
    "# the location and name of the file to be scrambled\n",
    "input_file = './Source/test.csv'\n",
    "\n",
    "# the location and the name the scrambled data will be written as CSV file\n",
    "output_file = './Scrambled/scrambled.csv'\n",
    "\n",
    "# Replace the correct variable for ID. The the id_column will be replaced with tstxxxxxxxx\n",
    "# can be left '', not advisable when an ID is present\n",
    "id_column = 'subjid'\n",
    "\n",
    "# these variables will not be scrambled\n",
    "dont_scramble = ['date_1', 'date_2']\n",
    "\n",
    "# these variables will be deleted from the scrambled dataset and therefore don't need to be scrambled\n",
    "drop_variables = ['skip_1', 'skip_2']"
   ]
  },
  {
   "cell_type": "code",
   "execution_count": 3,
   "id": "aba12d9d-42e9-4c4e-b5ac-2d5b278d79c4",
   "metadata": {},
   "outputs": [],
   "source": [
    "df = pd.read_csv(input_file, dtype=str, na_filter= False)"
   ]
  },
  {
   "cell_type": "code",
   "execution_count": 4,
   "id": "c1ab6295-dd4d-4e29-9861-d01d9f6fe015",
   "metadata": {},
   "outputs": [],
   "source": [
    "# create list without dates\n",
    "scramble_columns = [x for x in df.columns if x not in dont_scramble]\n",
    "if id_column:\n",
    "    scramble_columns.remove(id_column)\n",
    "for item in drop_variables:\n",
    "    scramble_columns.remove(item)"
   ]
  },
  {
   "cell_type": "code",
   "execution_count": 5,
   "id": "1f0ec2a5-8117-46f3-a1cc-a5b1ee829d56",
   "metadata": {},
   "outputs": [],
   "source": [
    "def id_dict(id_column):\n",
    "    '''function to pseodonimze id column'''\n",
    "    lst = list(set(df[id_column]))\n",
    "    new_id = {}\n",
    "    t = 1\n",
    "    for itm in lst:\n",
    "        new_id[itm] = 'tst' + f'{t:08d}'\n",
    "        t+=1\n",
    "    return new_id\n",
    "\n",
    "def scramble(lst_values, x):\n",
    "    '''function to scramble variables'''\n",
    "    # only replace a value when there is a value\n",
    "    if x != '':\n",
    "        return random.choice(lst_values)\n",
    "    # no value, leave empty\n",
    "    else:\n",
    "        return ''\n"
   ]
  },
  {
   "cell_type": "code",
   "execution_count": 6,
   "id": "f9105d7e-c57f-4d47-b1c0-5979c926f346",
   "metadata": {},
   "outputs": [],
   "source": [
    "# pseudonimize id_column\n",
    "if id_column:\n",
    "    df.replace({id_column: id_dict(id_column)}, inplace=True)\n",
    "\n",
    "# drop dont_scramble\n",
    "df.drop(drop_variables, axis=1, inplace=True)\n",
    "\n",
    "# scramble all non date columns\n",
    "# scramble_columns = lst\n",
    "for item in scramble_columns:\n",
    "    lst_values = list(set(df[df[item] != ''][item]))\n",
    "    if lst_values:\n",
    "        df[item] = df.apply(lambda x: scramble(lst_values, x[item]), axis=1)\n",
    "\n",
    "        \n",
    "df.to_csv(output_file, index=False)"
   ]
  }
 ],
 "metadata": {
  "kernelspec": {
   "display_name": "Python 3 (ipykernel)",
   "language": "python",
   "name": "python3"
  },
  "language_info": {
   "codemirror_mode": {
    "name": "ipython",
    "version": 3
   },
   "file_extension": ".py",
   "mimetype": "text/x-python",
   "name": "python",
   "nbconvert_exporter": "python",
   "pygments_lexer": "ipython3",
   "version": "3.8.11"
  }
 },
 "nbformat": 4,
 "nbformat_minor": 5
}
